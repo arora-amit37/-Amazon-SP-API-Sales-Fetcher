{
 "cells": [
  {
   "cell_type": "markdown",
   "id": "401e87ff",
   "metadata": {},
   "source": [
    "# 📓 Amazon SP-API Sales Fetcher\n",
    "### This notebook connects to Amazon's Selling Partner API (SP-API)\n",
    "### and retrieves your recent sales/orders in a safe, TOS-compliant way."
   ]
  },
  {
   "cell_type": "markdown",
   "id": "dc6692e4",
   "metadata": {},
   "source": [
    "# Step 0: Prerequisites\n",
    "\n",
    "Before running this notebook, complete these steps **in order**:\n",
    "\n",
    "1. **Amazon Seller Central Account**  \n",
    "   - Must be a **Professional Seller Account**.\n",
    "\n",
    "2. **Register as a Developer** in Seller Central  \n",
    "   - Go to: Apps & Services → Developer Central → \"Register as Developer\".\n",
    "\n",
    "3. **Create a Private App**  \n",
    "   - Name: e.g., `MySalesFetcher`  \n",
    "   - Get the **Client ID** and **Client Secret**.\n",
    "\n",
    "4. **AWS IAM Credentials**  \n",
    "   - Create an IAM User with `AmazonSPAPIAccess` policy.  \n",
    "   - Get **AWS Access Key** and **Secret Key**.\n",
    "\n",
    "5. **Login With Amazon (LWA) Credentials**  \n",
    "   - From your app, note **LWA Client ID** and **LWA Client Secret**.\n",
    "\n",
    "6. **Authorize the App**  \n",
    "   - In Seller Central → Manage Your Apps → Authorize.\n",
    "   - Get the **Refresh Token**.\n",
    "\n",
    "Now you’re ready to run this notebook."
   ]
  },
  {
   "cell_type": "markdown",
   "id": "80512719",
   "metadata": {},
   "source": [
    "# Step 1: Install Required Libraries\n",
    "\n",
    "We need:\n",
    "- **sp-api** → Amazon SP-API Python wrapper\n",
    "- **python-dotenv** → to securely store credentials\n",
    "- **pandas** → to save orders to CSV\n",
    "\n",
    "Run the cell below."
   ]
  },
  {
   "cell_type": "code",
   "execution_count": null,
   "id": "a6958f91",
   "metadata": {},
   "outputs": [],
   "source": [
    "!pip install python-amazon-sp-api python-dotenv pandas"
   ]
  },
  {
   "cell_type": "markdown",
   "id": "a0008ea5",
   "metadata": {},
   "source": [
    "# Step 2: Create and Configure Your `.env` File\n",
    "\n",
    "We’ll store credentials in a `.env` file to avoid hardcoding sensitive info.  \n",
    "Replace the placeholders in the cell below with your actual credentials."
   ]
  },
  {
   "cell_type": "code",
   "execution_count": null,
   "id": "0ce237ed",
   "metadata": {},
   "outputs": [],
   "source": [
    "env_content = \"\"\"\n",
    "LWA_CLIENT_ID=your_lwa_client_id\n",
    "LWA_CLIENT_SECRET=your_lwa_client_secret\n",
    "LWA_REFRESH_TOKEN=your_refresh_token\n",
    "AWS_ACCESS_KEY=your_aws_access_key\n",
    "AWS_SECRET_KEY=your_aws_secret_key\n",
    "AWS_ROLE_ARN=your_aws_role_arn\n",
    "\"\"\"\n",
    "\n",
    "with open(\".env\", \"w\") as f:\n",
    "    f.write(env_content)\n",
    "\n",
    "print(\"✅ .env file created! Replace the placeholder values with your real credentials.\")"
   ]
  },
  {
   "cell_type": "markdown",
   "id": "31bdc66b",
   "metadata": {},
   "source": [
    "# Step 3: Load Credentials and Initialize API Connection\n",
    "\n",
    "We’ll read credentials from `.env` and set up the `Orders` API object."
   ]
  },
  {
   "cell_type": "code",
   "execution_count": null,
   "id": "9d2bb0a2",
   "metadata": {},
   "outputs": [],
   "source": [
    "from sp_api.api import Orders\n",
    "from sp_api.base import Marketplaces\n",
    "import os\n",
    "from dotenv import load_dotenv\n",
    "\n",
    "# Load .env file\n",
    "load_dotenv()\n",
    "\n",
    "lwa_client_id = os.getenv(\"LWA_CLIENT_ID\")\n",
    "lwa_client_secret = os.getenv(\"LWA_CLIENT_SECRET\")\n",
    "refresh_token = os.getenv(\"LWA_REFRESH_TOKEN\")\n",
    "aws_access_key = os.getenv(\"AWS_ACCESS_KEY\")\n",
    "aws_secret_key = os.getenv(\"AWS_SECRET_KEY\")\n",
    "role_arn = os.getenv(\"AWS_ROLE_ARN\")\n",
    "\n",
    "orders_api = Orders(\n",
    "    marketplace=Marketplaces.US,\n",
    "    refresh_token=refresh_token,\n",
    "    lwa_app_id=lwa_client_id,\n",
    "    lwa_client_secret=lwa_client_secret,\n",
    "    aws_access_key=aws_access_key,\n",
    "    aws_secret_key=aws_secret_key,\n",
    "    role_arn=role_arn\n",
    ")\n",
    "\n",
    "print(\"✅ API connection initialized!\")\n"
   ]
  },
  {
   "cell_type": "markdown",
   "id": "dd095436",
   "metadata": {},
   "source": [
    "# Step 4: Fetch Recent Orders\n",
    "\n",
    "This example fetches all orders from the **last 7 days**."
   ]
  },
  {
   "cell_type": "code",
   "execution_count": null,
   "id": "bff1fd6b",
   "metadata": {},
   "outputs": [],
   "source": [
    "from datetime import datetime, timedelta\n",
    "\n",
    "created_after = (datetime.utcnow() - timedelta(days=7)).isoformat() + \"Z\"\n",
    "\n",
    "try:\n",
    "    res = orders_api.get_orders(CreatedAfter=created_after)\n",
    "    orders = res.payload.get(\"Orders\", [])\n",
    "    \n",
    "    if orders:\n",
    "        for order in orders:\n",
    "            print(\"Order ID:\", order[\"AmazonOrderId\"])\n",
    "            print(\"Purchase Date:\", order[\"PurchaseDate\"])\n",
    "            print(\"Order Status:\", order[\"OrderStatus\"])\n",
    "            print(\"Order Total:\", order.get(\"OrderTotal\", {}).get(\"Amount\", \"N/A\"))\n",
    "            print(\"-\" * 40)\n",
    "    else:\n",
    "        print(\"No orders found in the last 7 days.\")\n",
    "except Exception as e:\n",
    "    print(\"❌ Error fetching orders:\", e)"
   ]
  },
  {
   "cell_type": "markdown",
   "id": "a9f8f923",
   "metadata": {},
   "source": [
    "# Step 5: Save Orders to CSV\n",
    "\n",
    "We’ll save the fetched orders to a file named `amazon_orders.csv` for later analysis."
   ]
  },
  {
   "cell_type": "code",
   "execution_count": null,
   "id": "bbb8256c",
   "metadata": {},
   "outputs": [],
   "source": [
    "import pandas as pd\n",
    "\n",
    "if orders:\n",
    "    df = pd.DataFrame(orders)\n",
    "    df.to_csv(\"amazon_orders.csv\", index=False)\n",
    "    print(f\"✅ Orders saved to amazon_orders.csv ({len(df)} rows).\")\n",
    "else:\n",
    "    print(\"No data to save.\")"
   ]
  }
 ],
 "metadata": {
  "kernelspec": {
   "display_name": "Python 3",
   "language": "python",
   "name": "python3"
  },
  "language_info": {
   "codemirror_mode": {
    "name": "ipython",
    "version": 3
   },
   "file_extension": ".py",
   "mimetype": "text/x-python",
   "name": "python",
   "nbconvert_exporter": "python",
   "pygments_lexer": "ipython3",
   "version": "3.11.9"
  }
 },
 "nbformat": 4,
 "nbformat_minor": 5
}
